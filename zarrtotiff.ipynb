{
 "cells": [
  {
   "cell_type": "code",
   "execution_count": 1,
   "id": "ace35047-fbb1-428f-ab63-8272b3cf9bb7",
   "metadata": {},
   "outputs": [],
   "source": [
    "import numpy as np"
   ]
  },
  {
   "cell_type": "code",
   "execution_count": 1,
   "id": "42ff73ad-5f42-420f-beb6-43bd96fb6fd8",
   "metadata": {},
   "outputs": [
    {
     "name": "stdout",
     "output_type": "stream",
     "text": [
      "\\\\merfish7\\merfish7v1\\DNA_FISH\\Induced_cardio_05_04_2023\\Analysis\\TIFF_FILES\n"
     ]
    },
    {
     "name": "stderr",
     "output_type": "stream",
     "text": [
      "100%|██████████████████████████████████████████████████████████████████████████████| 248/248 [1:07:48<00:00, 16.40s/it]\n"
     ]
    }
   ],
   "source": [
    "import os\n",
    "import zarr\n",
    "import tifffile\n",
    "import glob\n",
    "import tqdm\n",
    "from ioMicro import *\n",
    "files = glob.glob(r'\\\\merfish7\\merfish7v1\\DNA_FISH\\Induced_cardio_05_04_2023\\A4_LamA_LamB_EGFP\\*zarr')\n",
    "\n",
    "output_directory = r\"\\\\merfish7\\merfish7v1\\DNA_FISH\\Induced_cardio_05_04_2023\\Analysis\\TIFF_FILES\"\n",
    "print(output_directory)\n",
    "\n",
    "for element in tqdm(files):\n",
    "    image = read_im(element)\n",
    "    cast = np.array(image[0],dtype=np.float32)\n",
    "    tiff_name = element[:-5] + \".tif\"\n",
    "    tiff_path = os.path.join(output_directory,tiff_name)\n",
    "    tifffile.imwrite(tiff_path, cast)\n",
    "    break\n",
    "    \n",
    "\n"
   ]
  },
  {
   "cell_type": "code",
   "execution_count": 4,
   "id": "50080304-a204-4b2a-b212-cd626e5bc501",
   "metadata": {},
   "outputs": [
    {
     "name": "stdout",
     "output_type": "stream",
     "text": [
      "\\\\merfish8\\merfish8v2\\20230515D101Myh67d15\\TIFF_FILES\n"
     ]
    },
    {
     "name": "stderr",
     "output_type": "stream",
     "text": [
      "  0%|                                                                                           | 0/10 [00:00<?, ?it/s]"
     ]
    },
    {
     "name": "stdout",
     "output_type": "stream",
     "text": [
      "\\\\merfish7\\merfish7v2\\20230515D101Myh67d15\\H1_B1_2_3\\Conv_zscan__060.zarr\n"
     ]
    },
    {
     "name": "stderr",
     "output_type": "stream",
     "text": [
      " 10%|████████▎                                                                          | 1/10 [00:11<01:40, 11.17s/it]"
     ]
    },
    {
     "name": "stdout",
     "output_type": "stream",
     "text": [
      "tiff path :  \\\\merfish7\\merfish7v2\\20230515D101Myh67d15\\H1_B1_2_3\\Conv_zscan__060.tif\n",
      "\\\\merfish7\\merfish7v2\\20230515D101Myh67d15\\H1_B1_2_3\\Conv_zscan__229.zarr\n"
     ]
    },
    {
     "name": "stderr",
     "output_type": "stream",
     "text": [
      " 20%|████████████████▌                                                                  | 2/10 [00:39<02:48, 21.12s/it]"
     ]
    },
    {
     "name": "stdout",
     "output_type": "stream",
     "text": [
      "tiff path :  \\\\merfish7\\merfish7v2\\20230515D101Myh67d15\\H1_B1_2_3\\Conv_zscan__229.tif\n",
      "\\\\merfish7\\merfish7v2\\20230515D101Myh67d15\\H1_B1_2_3\\Conv_zscan__222.zarr\n"
     ]
    },
    {
     "name": "stderr",
     "output_type": "stream",
     "text": [
      " 30%|████████████████████████▉                                                          | 3/10 [00:56<02:16, 19.43s/it]"
     ]
    },
    {
     "name": "stdout",
     "output_type": "stream",
     "text": [
      "tiff path :  \\\\merfish7\\merfish7v2\\20230515D101Myh67d15\\H1_B1_2_3\\Conv_zscan__222.tif\n",
      "\\\\merfish7\\merfish7v2\\20230515D101Myh67d15\\H1_B1_2_3\\Conv_zscan__051.zarr\n"
     ]
    },
    {
     "name": "stderr",
     "output_type": "stream",
     "text": [
      " 40%|█████████████████████████████████▏                                                 | 4/10 [01:05<01:30, 15.10s/it]"
     ]
    },
    {
     "name": "stdout",
     "output_type": "stream",
     "text": [
      "tiff path :  \\\\merfish7\\merfish7v2\\20230515D101Myh67d15\\H1_B1_2_3\\Conv_zscan__051.tif\n",
      "\\\\merfish7\\merfish7v2\\20230515D101Myh67d15\\H1_B1_2_3\\Conv_zscan__002.zarr\n"
     ]
    },
    {
     "name": "stderr",
     "output_type": "stream",
     "text": [
      " 50%|█████████████████████████████████████████▌                                         | 5/10 [01:11<01:00, 12.12s/it]"
     ]
    },
    {
     "name": "stdout",
     "output_type": "stream",
     "text": [
      "tiff path :  \\\\merfish7\\merfish7v2\\20230515D101Myh67d15\\H1_B1_2_3\\Conv_zscan__002.tif\n",
      "\\\\merfish7\\merfish7v2\\20230515D101Myh67d15\\H1_B1_2_3\\Conv_zscan__355.zarr\n"
     ]
    },
    {
     "name": "stderr",
     "output_type": "stream",
     "text": [
      " 60%|█████████████████████████████████████████████████▊                                 | 6/10 [01:21<00:44, 11.10s/it]"
     ]
    },
    {
     "name": "stdout",
     "output_type": "stream",
     "text": [
      "tiff path :  \\\\merfish7\\merfish7v2\\20230515D101Myh67d15\\H1_B1_2_3\\Conv_zscan__355.tif\n",
      "\\\\merfish7\\merfish7v2\\20230515D101Myh67d15\\H1_B1_2_3\\Conv_zscan__214.zarr\n"
     ]
    },
    {
     "name": "stderr",
     "output_type": "stream",
     "text": [
      " 70%|██████████████████████████████████████████████████████████                         | 7/10 [01:27<00:29,  9.69s/it]"
     ]
    },
    {
     "name": "stdout",
     "output_type": "stream",
     "text": [
      "tiff path :  \\\\merfish7\\merfish7v2\\20230515D101Myh67d15\\H1_B1_2_3\\Conv_zscan__214.tif\n",
      "\\\\merfish7\\merfish7v2\\20230515D101Myh67d15\\H1_B1_2_3\\Conv_zscan__309.zarr\n"
     ]
    },
    {
     "name": "stderr",
     "output_type": "stream",
     "text": [
      " 80%|██████████████████████████████████████████████████████████████████▍                | 8/10 [01:34<00:17,  8.82s/it]"
     ]
    },
    {
     "name": "stdout",
     "output_type": "stream",
     "text": [
      "tiff path :  \\\\merfish7\\merfish7v2\\20230515D101Myh67d15\\H1_B1_2_3\\Conv_zscan__309.tif\n",
      "\\\\merfish7\\merfish7v2\\20230515D101Myh67d15\\H1_B1_2_3\\Conv_zscan__067.zarr\n"
     ]
    },
    {
     "name": "stderr",
     "output_type": "stream",
     "text": [
      " 90%|██████████████████████████████████████████████████████████████████████████▋        | 9/10 [01:44<00:09,  9.08s/it]"
     ]
    },
    {
     "name": "stdout",
     "output_type": "stream",
     "text": [
      "tiff path :  \\\\merfish7\\merfish7v2\\20230515D101Myh67d15\\H1_B1_2_3\\Conv_zscan__067.tif\n",
      "\\\\merfish7\\merfish7v2\\20230515D101Myh67d15\\H1_B1_2_3\\Conv_zscan__148.zarr\n"
     ]
    },
    {
     "name": "stderr",
     "output_type": "stream",
     "text": [
      "100%|██████████████████████████████████████████████████████████████████████████████████| 10/10 [01:54<00:00, 11.42s/it]"
     ]
    },
    {
     "name": "stdout",
     "output_type": "stream",
     "text": [
      "tiff path :  \\\\merfish7\\merfish7v2\\20230515D101Myh67d15\\H1_B1_2_3\\Conv_zscan__148.tif\n"
     ]
    },
    {
     "name": "stderr",
     "output_type": "stream",
     "text": [
      "\n"
     ]
    }
   ],
   "source": [
    "import os\n",
    "import zarr\n",
    "import tifffile\n",
    "import glob\n",
    "import tqdm\n",
    "from ioMicro import *\n",
    "\n",
    "#\\\\merfish7\\merfish7v2\\20230515D101Myh67d15\\H1_B1_2_3\n",
    "files = glob.glob(r'\\\\merfish7\\merfish7v2\\20230515D101Myh67d15\\H1_B1_2_3\\*zarr')\n",
    "files = files[50:60]\n",
    "\n",
    "output_directory = r\"\\\\merfish8\\merfish8v2\\20230515D101Myh67d15\\TIFF_FILES\"\n",
    "print(output_directory)\n",
    "\n",
    "for element in tqdm(files):\n",
    "    print(element)\n",
    "    \n",
    "    image = read_im(element)\n",
    "    cast = np.array(image[0],dtype=np.float32)\n",
    "    tiff_name = element[:-5] + \".tif\"\n",
    "    tiff_path = os.path.join(output_directory,tiff_name)\n",
    "    print(\"tiff path :  \"+ tiff_path)\n",
    "    tifffile.imwrite(tiff_path, cast)\n",
    "    \n",
    "\n"
   ]
  },
  {
   "cell_type": "code",
   "execution_count": 3,
   "id": "e31ff17f-5f6f-4f32-b048-e0f140b08b72",
   "metadata": {},
   "outputs": [
    {
     "data": {
      "text/plain": [
       "'\\\\\\\\merfish7\\\\merfish7v2\\\\20230515D101Myh67d15\\\\H1_B1_2_3\\\\Conv_zscan__249.zarr'"
      ]
     },
     "execution_count": 3,
     "metadata": {},
     "output_type": "execute_result"
    }
   ],
   "source": [
    "files"
   ]
  },
  {
   "cell_type": "code",
   "execution_count": null,
   "id": "f014eddc-1725-46ac-8ac4-49d68855c47e",
   "metadata": {},
   "outputs": [
    {
     "name": "stdout",
     "output_type": "stream",
     "text": [
      "\\\\merfish8\\merfish8v2\\20230515D101Myh67d15\\TIFF_FILES\n"
     ]
    },
    {
     "name": "stderr",
     "output_type": "stream",
     "text": [
      "  0%|                                                                                          | 0/399 [00:00<?, ?it/s]"
     ]
    },
    {
     "name": "stdout",
     "output_type": "stream",
     "text": [
      "\\\\merfish7\\merfish7v2\\20230515D101Myh67d15\\H1_B1_2_3\\Conv_zscan__184.zarr\n"
     ]
    },
    {
     "name": "stderr",
     "output_type": "stream",
     "text": [
      "  0%|▏                                                                                 | 1/399 [00:07<48:49,  7.36s/it]"
     ]
    },
    {
     "name": "stdout",
     "output_type": "stream",
     "text": [
      "\\\\merfish7\\merfish7v2\\20230515D101Myh67d15\\H1_B1_2_3\\Conv_zscan__196.zarr\n"
     ]
    },
    {
     "name": "stderr",
     "output_type": "stream",
     "text": [
      "  1%|▍                                                                                 | 2/399 [00:15<53:06,  8.03s/it]"
     ]
    },
    {
     "name": "stdout",
     "output_type": "stream",
     "text": [
      "\\\\merfish7\\merfish7v2\\20230515D101Myh67d15\\H1_B1_2_3\\Conv_zscan__101.zarr\n"
     ]
    },
    {
     "name": "stderr",
     "output_type": "stream",
     "text": [
      "  1%|▌                                                                                 | 3/399 [00:23<50:25,  7.64s/it]"
     ]
    },
    {
     "name": "stdout",
     "output_type": "stream",
     "text": [
      "\\\\merfish7\\merfish7v2\\20230515D101Myh67d15\\H1_B1_2_3\\Conv_zscan__221.zarr\n"
     ]
    },
    {
     "name": "stderr",
     "output_type": "stream",
     "text": [
      "  1%|▊                                                                                 | 4/399 [00:30<51:02,  7.75s/it]"
     ]
    },
    {
     "name": "stdout",
     "output_type": "stream",
     "text": [
      "\\\\merfish7\\merfish7v2\\20230515D101Myh67d15\\H1_B1_2_3\\Conv_zscan__263.zarr\n"
     ]
    },
    {
     "name": "stderr",
     "output_type": "stream",
     "text": [
      "  1%|█                                                                                 | 5/399 [00:39<53:34,  8.16s/it]"
     ]
    },
    {
     "name": "stdout",
     "output_type": "stream",
     "text": [
      "\\\\merfish7\\merfish7v2\\20230515D101Myh67d15\\H1_B1_2_3\\Conv_zscan__055.zarr\n"
     ]
    },
    {
     "name": "stderr",
     "output_type": "stream",
     "text": [
      "  2%|█▏                                                                              | 6/399 [00:51<1:00:18,  9.21s/it]"
     ]
    },
    {
     "name": "stdout",
     "output_type": "stream",
     "text": [
      "\\\\merfish7\\merfish7v2\\20230515D101Myh67d15\\H1_B1_2_3\\Conv_zscan__243.zarr\n"
     ]
    },
    {
     "name": "stderr",
     "output_type": "stream",
     "text": [
      "  2%|█▍                                                                              | 7/399 [01:02<1:05:16,  9.99s/it]"
     ]
    },
    {
     "name": "stdout",
     "output_type": "stream",
     "text": [
      "\\\\merfish7\\merfish7v2\\20230515D101Myh67d15\\H1_B1_2_3\\Conv_zscan__011.zarr\n"
     ]
    },
    {
     "name": "stderr",
     "output_type": "stream",
     "text": [
      "  2%|█▌                                                                              | 8/399 [01:11<1:01:54,  9.50s/it]"
     ]
    },
    {
     "name": "stdout",
     "output_type": "stream",
     "text": [
      "\\\\merfish7\\merfish7v2\\20230515D101Myh67d15\\H1_B1_2_3\\Conv_zscan__117.zarr\n"
     ]
    },
    {
     "name": "stderr",
     "output_type": "stream",
     "text": [
      "  2%|█▊                                                                                | 9/399 [01:18<57:39,  8.87s/it]"
     ]
    },
    {
     "name": "stdout",
     "output_type": "stream",
     "text": [
      "\\\\merfish7\\merfish7v2\\20230515D101Myh67d15\\H1_B1_2_3\\Conv_zscan__074.zarr\n"
     ]
    },
    {
     "name": "stderr",
     "output_type": "stream",
     "text": [
      "  3%|██                                                                               | 10/399 [01:28<59:15,  9.14s/it]"
     ]
    },
    {
     "name": "stdout",
     "output_type": "stream",
     "text": [
      "\\\\merfish7\\merfish7v2\\20230515D101Myh67d15\\H1_B1_2_3\\Conv_zscan__249.zarr\n"
     ]
    },
    {
     "name": "stderr",
     "output_type": "stream",
     "text": [
      "  3%|██▏                                                                            | 11/399 [01:38<1:01:10,  9.46s/it]"
     ]
    },
    {
     "name": "stdout",
     "output_type": "stream",
     "text": [
      "\\\\merfish7\\merfish7v2\\20230515D101Myh67d15\\H1_B1_2_3\\Conv_zscan__342.zarr\n"
     ]
    },
    {
     "name": "stderr",
     "output_type": "stream",
     "text": [
      "  3%|██▍                                                                              | 12/399 [01:47<59:06,  9.16s/it]"
     ]
    },
    {
     "name": "stdout",
     "output_type": "stream",
     "text": [
      "\\\\merfish7\\merfish7v2\\20230515D101Myh67d15\\H1_B1_2_3\\Conv_zscan__228.zarr\n"
     ]
    },
    {
     "name": "stderr",
     "output_type": "stream",
     "text": [
      "  3%|██▌                                                                            | 13/399 [01:58<1:02:51,  9.77s/it]"
     ]
    },
    {
     "name": "stdout",
     "output_type": "stream",
     "text": [
      "\\\\merfish7\\merfish7v2\\20230515D101Myh67d15\\H1_B1_2_3\\Conv_zscan__187.zarr\n"
     ]
    },
    {
     "name": "stderr",
     "output_type": "stream",
     "text": [
      "  4%|██▊                                                                            | 14/399 [02:08<1:03:14,  9.86s/it]"
     ]
    },
    {
     "name": "stdout",
     "output_type": "stream",
     "text": [
      "\\\\merfish7\\merfish7v2\\20230515D101Myh67d15\\H1_B1_2_3\\Conv_zscan__157.zarr\n"
     ]
    },
    {
     "name": "stderr",
     "output_type": "stream",
     "text": [
      "  4%|███                                                                              | 15/399 [02:15<58:52,  9.20s/it]"
     ]
    },
    {
     "name": "stdout",
     "output_type": "stream",
     "text": [
      "\\\\merfish7\\merfish7v2\\20230515D101Myh67d15\\H1_B1_2_3\\Conv_zscan__351.zarr\n"
     ]
    },
    {
     "name": "stderr",
     "output_type": "stream",
     "text": [
      "  4%|███▏                                                                             | 16/399 [02:24<56:36,  8.87s/it]"
     ]
    },
    {
     "name": "stdout",
     "output_type": "stream",
     "text": [
      "\\\\merfish7\\merfish7v2\\20230515D101Myh67d15\\H1_B1_2_3\\Conv_zscan__086.zarr\n"
     ]
    },
    {
     "name": "stderr",
     "output_type": "stream",
     "text": [
      "  4%|███▍                                                                             | 17/399 [02:32<55:01,  8.64s/it]"
     ]
    },
    {
     "name": "stdout",
     "output_type": "stream",
     "text": [
      "\\\\merfish7\\merfish7v2\\20230515D101Myh67d15\\H1_B1_2_3\\Conv_zscan__092.zarr\n"
     ]
    },
    {
     "name": "stderr",
     "output_type": "stream",
     "text": [
      "  5%|███▋                                                                             | 18/399 [02:40<55:08,  8.68s/it]"
     ]
    },
    {
     "name": "stdout",
     "output_type": "stream",
     "text": [
      "\\\\merfish7\\merfish7v2\\20230515D101Myh67d15\\H1_B1_2_3\\Conv_zscan__207.zarr\n"
     ]
    },
    {
     "name": "stderr",
     "output_type": "stream",
     "text": [
      "  5%|███▊                                                                             | 19/399 [02:48<52:05,  8.22s/it]"
     ]
    },
    {
     "name": "stdout",
     "output_type": "stream",
     "text": [
      "\\\\merfish7\\merfish7v2\\20230515D101Myh67d15\\H1_B1_2_3\\Conv_zscan__145.zarr\n"
     ]
    },
    {
     "name": "stderr",
     "output_type": "stream",
     "text": [
      "  5%|████                                                                             | 20/399 [02:54<49:24,  7.82s/it]"
     ]
    },
    {
     "name": "stdout",
     "output_type": "stream",
     "text": [
      "\\\\merfish7\\merfish7v2\\20230515D101Myh67d15\\H1_B1_2_3\\Conv_zscan__158.zarr\n"
     ]
    },
    {
     "name": "stderr",
     "output_type": "stream",
     "text": [
      "  5%|████▎                                                                            | 21/399 [03:03<51:02,  8.10s/it]"
     ]
    },
    {
     "name": "stdout",
     "output_type": "stream",
     "text": [
      "\\\\merfish7\\merfish7v2\\20230515D101Myh67d15\\H1_B1_2_3\\Conv_zscan__081.zarr\n"
     ]
    },
    {
     "name": "stderr",
     "output_type": "stream",
     "text": [
      "  6%|████▍                                                                            | 22/399 [03:12<52:26,  8.35s/it]"
     ]
    },
    {
     "name": "stdout",
     "output_type": "stream",
     "text": [
      "\\\\merfish7\\merfish7v2\\20230515D101Myh67d15\\H1_B1_2_3\\Conv_zscan__212.zarr\n"
     ]
    },
    {
     "name": "stderr",
     "output_type": "stream",
     "text": [
      "  6%|████▋                                                                            | 23/399 [03:23<57:58,  9.25s/it]"
     ]
    },
    {
     "name": "stdout",
     "output_type": "stream",
     "text": [
      "\\\\merfish7\\merfish7v2\\20230515D101Myh67d15\\H1_B1_2_3\\Conv_zscan__345.zarr\n"
     ]
    },
    {
     "name": "stderr",
     "output_type": "stream",
     "text": [
      "  6%|████▊                                                                            | 24/399 [03:32<55:47,  8.93s/it]"
     ]
    },
    {
     "name": "stdout",
     "output_type": "stream",
     "text": [
      "\\\\merfish7\\merfish7v2\\20230515D101Myh67d15\\H1_B1_2_3\\Conv_zscan__318.zarr\n"
     ]
    },
    {
     "name": "stderr",
     "output_type": "stream",
     "text": [
      "  6%|█████                                                                            | 25/399 [03:39<51:49,  8.31s/it]"
     ]
    },
    {
     "name": "stdout",
     "output_type": "stream",
     "text": [
      "\\\\merfish7\\merfish7v2\\20230515D101Myh67d15\\H1_B1_2_3\\Conv_zscan__240.zarr\n"
     ]
    },
    {
     "name": "stderr",
     "output_type": "stream",
     "text": [
      "  7%|█████▎                                                                           | 26/399 [03:47<51:38,  8.31s/it]"
     ]
    },
    {
     "name": "stdout",
     "output_type": "stream",
     "text": [
      "\\\\merfish7\\merfish7v2\\20230515D101Myh67d15\\H1_B1_2_3\\Conv_zscan__267.zarr\n"
     ]
    },
    {
     "name": "stderr",
     "output_type": "stream",
     "text": [
      "  7%|█████▍                                                                           | 27/399 [03:55<51:31,  8.31s/it]"
     ]
    },
    {
     "name": "stdout",
     "output_type": "stream",
     "text": [
      "\\\\merfish7\\merfish7v2\\20230515D101Myh67d15\\H1_B1_2_3\\Conv_zscan__005.zarr\n"
     ]
    },
    {
     "name": "stderr",
     "output_type": "stream",
     "text": [
      "  7%|█████▋                                                                           | 28/399 [04:03<50:45,  8.21s/it]"
     ]
    },
    {
     "name": "stdout",
     "output_type": "stream",
     "text": [
      "\\\\merfish7\\merfish7v2\\20230515D101Myh67d15\\H1_B1_2_3\\Conv_zscan__072.zarr\n"
     ]
    },
    {
     "name": "stderr",
     "output_type": "stream",
     "text": [
      "  7%|█████▉                                                                           | 29/399 [04:11<49:20,  8.00s/it]"
     ]
    },
    {
     "name": "stdout",
     "output_type": "stream",
     "text": [
      "\\\\merfish7\\merfish7v2\\20230515D101Myh67d15\\H1_B1_2_3\\Conv_zscan__281.zarr\n"
     ]
    },
    {
     "name": "stderr",
     "output_type": "stream",
     "text": [
      "  8%|██████                                                                           | 30/399 [04:19<50:38,  8.23s/it]"
     ]
    },
    {
     "name": "stdout",
     "output_type": "stream",
     "text": [
      "\\\\merfish7\\merfish7v2\\20230515D101Myh67d15\\H1_B1_2_3\\Conv_zscan__307.zarr\n"
     ]
    },
    {
     "name": "stderr",
     "output_type": "stream",
     "text": [
      "  8%|██████▎                                                                          | 31/399 [04:26<48:09,  7.85s/it]"
     ]
    },
    {
     "name": "stdout",
     "output_type": "stream",
     "text": [
      "\\\\merfish7\\merfish7v2\\20230515D101Myh67d15\\H1_B1_2_3\\Conv_zscan__325.zarr\n"
     ]
    },
    {
     "name": "stderr",
     "output_type": "stream",
     "text": [
      "  8%|██████▍                                                                          | 32/399 [04:37<53:54,  8.81s/it]"
     ]
    },
    {
     "name": "stdout",
     "output_type": "stream",
     "text": [
      "\\\\merfish7\\merfish7v2\\20230515D101Myh67d15\\H1_B1_2_3\\Conv_zscan__386.zarr\n"
     ]
    },
    {
     "name": "stderr",
     "output_type": "stream",
     "text": [
      "  8%|██████▋                                                                          | 33/399 [04:45<51:31,  8.45s/it]"
     ]
    },
    {
     "name": "stdout",
     "output_type": "stream",
     "text": [
      "\\\\merfish7\\merfish7v2\\20230515D101Myh67d15\\H1_B1_2_3\\Conv_zscan__266.zarr\n"
     ]
    },
    {
     "name": "stderr",
     "output_type": "stream",
     "text": [
      "  9%|██████▉                                                                          | 34/399 [04:53<49:42,  8.17s/it]"
     ]
    },
    {
     "name": "stdout",
     "output_type": "stream",
     "text": [
      "\\\\merfish7\\merfish7v2\\20230515D101Myh67d15\\H1_B1_2_3\\Conv_zscan__322.zarr\n"
     ]
    },
    {
     "name": "stderr",
     "output_type": "stream",
     "text": [
      "  9%|███████                                                                          | 35/399 [05:03<52:56,  8.73s/it]"
     ]
    },
    {
     "name": "stdout",
     "output_type": "stream",
     "text": [
      "\\\\merfish7\\merfish7v2\\20230515D101Myh67d15\\H1_B1_2_3\\Conv_zscan__004.zarr\n"
     ]
    },
    {
     "name": "stderr",
     "output_type": "stream",
     "text": [
      "  9%|███████▎                                                                         | 36/399 [05:11<51:55,  8.58s/it]"
     ]
    },
    {
     "name": "stdout",
     "output_type": "stream",
     "text": [
      "\\\\merfish7\\merfish7v2\\20230515D101Myh67d15\\H1_B1_2_3\\Conv_zscan__130.zarr\n"
     ]
    },
    {
     "name": "stderr",
     "output_type": "stream",
     "text": [
      "  9%|███████▌                                                                         | 37/399 [05:18<49:04,  8.13s/it]"
     ]
    },
    {
     "name": "stdout",
     "output_type": "stream",
     "text": [
      "\\\\merfish7\\merfish7v2\\20230515D101Myh67d15\\H1_B1_2_3\\Conv_zscan__008.zarr\n"
     ]
    },
    {
     "name": "stderr",
     "output_type": "stream",
     "text": [
      " 10%|███████▋                                                                         | 38/399 [05:25<46:39,  7.76s/it]"
     ]
    },
    {
     "name": "stdout",
     "output_type": "stream",
     "text": [
      "\\\\merfish7\\merfish7v2\\20230515D101Myh67d15\\H1_B1_2_3\\Conv_zscan__296.zarr\n"
     ]
    }
   ],
   "source": [
    "import os\n",
    "import zarr\n",
    "import tifffile\n",
    "import glob\n",
    "import tqdm\n",
    "from ioMicro import *\n",
    "files = glob.glob(r'\\\\merfish7\\merfish7v2\\20230515D101Myh67d15\\H1_B1_2_3\\*zarr')\n",
    "#files = files[50:60]\n",
    "\n",
    "output_directory = r\"\\\\merfish8\\merfish8v2\\20230515D101Myh67d15\\TIFF_FILES\"\n",
    "print(output_directory)\n",
    "failed = []\n",
    "for element in tqdm(files):\n",
    "    try:\n",
    "        print(element)\n",
    "        image = read_im(element)\n",
    "        cast = np.array(image[0],dtype=np.float32)\n",
    "    \n",
    "    except:\n",
    "        print(\"error at: \" + element)\n",
    "        failed.append(element)"
   ]
  },
  {
   "cell_type": "code",
   "execution_count": null,
   "id": "0ee13fd3-54f6-455a-a600-9687878c99c7",
   "metadata": {},
   "outputs": [],
   "source": []
  },
  {
   "cell_type": "code",
   "execution_count": null,
   "id": "871fa7b3-af86-4e59-ab13-da3d73d0847b",
   "metadata": {},
   "outputs": [],
   "source": []
  },
  {
   "cell_type": "code",
   "execution_count": 12,
   "id": "68b7d453-4090-4b93-8fcd-28be4f223b95",
   "metadata": {},
   "outputs": [
    {
     "name": "stdout",
     "output_type": "stream",
     "text": [
      "\\\\merfish7\\merfish7v2\\20230515D101Myh67d15\\TIFF_FILES\n"
     ]
    },
    {
     "name": "stderr",
     "output_type": "stream",
     "text": [
      "  0%|                                                                                           | 0/10 [00:00<?, ?it/s]"
     ]
    },
    {
     "name": "stdout",
     "output_type": "stream",
     "text": [
      "\\\\merfish7\\merfish7v2\\20230515D101Myh67d15\\H1_B1_2_3\\Conv_zscan__060.zarr\n",
      "tiff path: \\\\merfish7\\merfish7v2\\20230515D101Myh67d15\\H1_B1_2_3\\Conv_zscan__060.tif\n"
     ]
    },
    {
     "name": "stderr",
     "output_type": "stream",
     "text": [
      " 10%|████████▎                                                                          | 1/10 [00:13<02:00, 13.39s/it]"
     ]
    },
    {
     "name": "stdout",
     "output_type": "stream",
     "text": [
      "\\\\merfish7\\merfish7v2\\20230515D101Myh67d15\\H1_B1_2_3\\Conv_zscan__229.zarr\n",
      "tiff path: \\\\merfish7\\merfish7v2\\20230515D101Myh67d15\\H1_B1_2_3\\Conv_zscan__229.tif\n"
     ]
    },
    {
     "name": "stderr",
     "output_type": "stream",
     "text": [
      " 20%|████████████████▌                                                                  | 2/10 [00:26<01:44, 13.03s/it]"
     ]
    },
    {
     "name": "stdout",
     "output_type": "stream",
     "text": [
      "\\\\merfish7\\merfish7v2\\20230515D101Myh67d15\\H1_B1_2_3\\Conv_zscan__222.zarr\n",
      "tiff path: \\\\merfish7\\merfish7v2\\20230515D101Myh67d15\\H1_B1_2_3\\Conv_zscan__222.tif\n"
     ]
    },
    {
     "name": "stderr",
     "output_type": "stream",
     "text": [
      " 30%|████████████████████████▉                                                          | 3/10 [00:40<01:33, 13.40s/it]"
     ]
    },
    {
     "name": "stdout",
     "output_type": "stream",
     "text": [
      "\\\\merfish7\\merfish7v2\\20230515D101Myh67d15\\H1_B1_2_3\\Conv_zscan__051.zarr\n",
      "tiff path: \\\\merfish7\\merfish7v2\\20230515D101Myh67d15\\H1_B1_2_3\\Conv_zscan__051.tif\n"
     ]
    },
    {
     "name": "stderr",
     "output_type": "stream",
     "text": [
      " 40%|█████████████████████████████████▏                                                 | 4/10 [00:52<01:17, 12.90s/it]"
     ]
    },
    {
     "name": "stdout",
     "output_type": "stream",
     "text": [
      "\\\\merfish7\\merfish7v2\\20230515D101Myh67d15\\H1_B1_2_3\\Conv_zscan__002.zarr\n",
      "tiff path: \\\\merfish7\\merfish7v2\\20230515D101Myh67d15\\H1_B1_2_3\\Conv_zscan__002.tif\n"
     ]
    },
    {
     "name": "stderr",
     "output_type": "stream",
     "text": [
      " 50%|█████████████████████████████████████████▌                                         | 5/10 [01:05<01:05, 13.10s/it]"
     ]
    },
    {
     "name": "stdout",
     "output_type": "stream",
     "text": [
      "\\\\merfish7\\merfish7v2\\20230515D101Myh67d15\\H1_B1_2_3\\Conv_zscan__355.zarr\n",
      "tiff path: \\\\merfish7\\merfish7v2\\20230515D101Myh67d15\\H1_B1_2_3\\Conv_zscan__355.tif\n"
     ]
    },
    {
     "name": "stderr",
     "output_type": "stream",
     "text": [
      " 60%|█████████████████████████████████████████████████▊                                 | 6/10 [01:19<00:53, 13.34s/it]"
     ]
    },
    {
     "name": "stdout",
     "output_type": "stream",
     "text": [
      "\\\\merfish7\\merfish7v2\\20230515D101Myh67d15\\H1_B1_2_3\\Conv_zscan__214.zarr\n",
      "tiff path: \\\\merfish7\\merfish7v2\\20230515D101Myh67d15\\H1_B1_2_3\\Conv_zscan__214.tif\n"
     ]
    },
    {
     "name": "stderr",
     "output_type": "stream",
     "text": [
      " 70%|██████████████████████████████████████████████████████████                         | 7/10 [01:32<00:39, 13.23s/it]"
     ]
    },
    {
     "name": "stdout",
     "output_type": "stream",
     "text": [
      "\\\\merfish7\\merfish7v2\\20230515D101Myh67d15\\H1_B1_2_3\\Conv_zscan__309.zarr\n",
      "tiff path: \\\\merfish7\\merfish7v2\\20230515D101Myh67d15\\H1_B1_2_3\\Conv_zscan__309.tif\n"
     ]
    },
    {
     "name": "stderr",
     "output_type": "stream",
     "text": [
      " 80%|██████████████████████████████████████████████████████████████████▍                | 8/10 [01:44<00:25, 12.96s/it]"
     ]
    },
    {
     "name": "stdout",
     "output_type": "stream",
     "text": [
      "\\\\merfish7\\merfish7v2\\20230515D101Myh67d15\\H1_B1_2_3\\Conv_zscan__067.zarr\n",
      "tiff path: \\\\merfish7\\merfish7v2\\20230515D101Myh67d15\\H1_B1_2_3\\Conv_zscan__067.tif\n"
     ]
    },
    {
     "name": "stderr",
     "output_type": "stream",
     "text": [
      " 90%|██████████████████████████████████████████████████████████████████████████▋        | 9/10 [01:56<00:12, 12.72s/it]"
     ]
    },
    {
     "name": "stdout",
     "output_type": "stream",
     "text": [
      "\\\\merfish7\\merfish7v2\\20230515D101Myh67d15\\H1_B1_2_3\\Conv_zscan__148.zarr\n",
      "tiff path: \\\\merfish7\\merfish7v2\\20230515D101Myh67d15\\H1_B1_2_3\\Conv_zscan__148.tif\n"
     ]
    },
    {
     "name": "stderr",
     "output_type": "stream",
     "text": [
      "100%|██████████████████████████████████████████████████████████████████████████████████| 10/10 [02:07<00:00, 12.77s/it]\n"
     ]
    }
   ],
   "source": [
    "import os\n",
    "import zarr\n",
    "import tifffile\n",
    "import glob\n",
    "import tqdm\n",
    "import numpy as np  # Added numpy import\n",
    "\n",
    "# Assuming that `read_im` function reads image data from Zarr files\n",
    "\n",
    "# \\\\merfish7\\merfish7v2\\20230515D101Myh67d15\\H1_B1_2_3\n",
    "files = glob.glob(r'\\\\merfish7\\merfish7v2\\20230515D101Myh67d15\\H1_B1_2_3\\*zarr')\n",
    "files = files[50:60]\n",
    "\n",
    "output_directory = r\"\\\\merfish7\\merfish7v2\\20230515D101Myh67d15\\TIFF_FILES\"\n",
    "print(output_directory)\n",
    "\n",
    "# Check if the output directory exists, if not create it\n",
    "if not os.path.exists(output_directory):\n",
    "    os.makedirs(output_directory)\n",
    "\n",
    "for element in tqdm.tqdm(files):\n",
    "    print(element)\n",
    "\n",
    "    # Assuming `read_im` reads data from Zarr files and returns an array\n",
    "    image = read_im(element)\n",
    "    cast = np.array(image[3], dtype=np.float32)\n",
    "    tiff_name = element[:-5] + \".tif\"\n",
    "    tiff_path = os.path.join(output_directory, tiff_name)\n",
    "    print(\"tiff path: \" + tiff_path)\n",
    "    tifffile.imwrite(tiff_path, cast)\n"
   ]
  },
  {
   "cell_type": "code",
   "execution_count": 9,
   "id": "f2a0153a-5da4-48e3-bd67-2387f1b04f98",
   "metadata": {},
   "outputs": [],
   "source": [
    "import napari\n",
    "from ioMicro import *\n",
    "test = r'\\\\merfish7\\merfish7v2\\20230515D101Myh67d15\\H1_B1_2_3\\Conv_zscan__050.zarr'\n",
    "#test = r'\\\\merfish7\\merfish7v2\\DNA_FISH\\Induced_cardio_05_04_2023\\A4_LamA_LamB_EGFP\\Conv_zscan__030.zarr'\n",
    "im = read_im(test)"
   ]
  },
  {
   "cell_type": "code",
   "execution_count": 11,
   "id": "e3e7b148-cf5c-40fc-9dee-57d17fd4ff96",
   "metadata": {},
   "outputs": [],
   "source": [
    "v = napari.view_image(im)"
   ]
  },
  {
   "cell_type": "code",
   "execution_count": null,
   "id": "9f007049-de27-40f0-ae51-bb6460910b6e",
   "metadata": {},
   "outputs": [],
   "source": []
  }
 ],
 "metadata": {
  "kernelspec": {
   "display_name": "Python 3 (ipykernel)",
   "language": "python",
   "name": "python3"
  },
  "language_info": {
   "codemirror_mode": {
    "name": "ipython",
    "version": 3
   },
   "file_extension": ".py",
   "mimetype": "text/x-python",
   "name": "python",
   "nbconvert_exporter": "python",
   "pygments_lexer": "ipython3",
   "version": "3.10.9"
  }
 },
 "nbformat": 4,
 "nbformat_minor": 5
}
